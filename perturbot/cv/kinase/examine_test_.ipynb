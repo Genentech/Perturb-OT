{
 "cells": [
  {
   "cell_type": "code",
   "execution_count": null,
   "id": "b0e73e42-95ce-4a32-8cca-9f2b7f94bc3c",
   "metadata": {},
   "outputs": [],
   "source": [
    "import os\n",
    "import pickle as pkl\n",
    "import numpy as np\n",
    "import pandas as pd\n",
    "\n",
    "import anndata as ad\n",
    "import scanpy as sc\n",
    "import matplotlib\n",
    "import matplotlib.pyplot as plt\n",
    "import seaborn as sns\n",
    "import warnings\n",
    "from perturbot.eval.prediction import get_evals_preds, get_evals"
   ]
  },
  {
   "cell_type": "code",
   "execution_count": null,
   "id": "bdf8a375-3626-4bba-8d60-203b49a9a1a4",
   "metadata": {},
   "outputs": [],
   "source": [
    "matplotlib.rcParams['pdf.fonttype'] = 42 \n",
    "warnings.filterwarnings('ignore')"
   ]
  },
  {
   "cell_type": "code",
   "execution_count": null,
   "id": "845d3a5d-fe05-4293-a648-748a8bb0a2af",
   "metadata": {},
   "outputs": [],
   "source": [
    "methods = [\n",
    "    \"EOT_ott\",\n",
    "    \"LEOT_ott\",\n",
    "    \"EGW_ott\",\n",
    "    \"EGW_all_ott\",\n",
    "    \"EGWL_ott\",\n",
    "    \"ECOOT\",\n",
    "    \"ECOOTL\",\n",
    "    \"VAE\",\n",
    "    \"VAE_label\",\n",
    "    \"perfect\",\n",
    "    \"by_conc\",\n",
    "    \"random\",\n",
    "]"
   ]
  },
  {
   "cell_type": "code",
   "execution_count": null,
   "id": "bbacde6b-6d34-4efc-b771-45d47d629ef8",
   "metadata": {},
   "outputs": [],
   "source": [
    "with open(\"/gpfs/scratchfs01/site/u/ryuj6/OT/data/chemical_screen/chemical_screen_subsampled_2000.pkl\", \"rb\") as f:\n",
    "    data = pkl.load(f)\n",
    "Y_v = data[\"Xt_dict\"][3].mean(axis=0)"
   ]
  },
  {
   "cell_type": "code",
   "execution_count": null,
   "id": "a5b31ddd-f42c-4d2a-9abc-768d4fe1116d",
   "metadata": {},
   "outputs": [],
   "source": [
    "treatment_idx = pd.read_csv(\"../../../../data/chemical_screen/chemical_screen_pca_idx.txt\", header=None)[0]\n",
    "conc_idx = pd.read_csv(\"../../../../data/chemical_screen/concentration_idx_pca.csv\")[\"0\"]"
   ]
  },
  {
   "cell_type": "code",
   "execution_count": null,
   "id": "0dcbf4c5-7b60-47f4-962f-7792416a8264",
   "metadata": {},
   "outputs": [],
   "source": [
    "kinase_used = ad.read_h5ad(\"../../../../data/chemical_screen/kinase_used.h5ad\")"
   ]
  },
  {
   "cell_type": "code",
   "execution_count": null,
   "id": "43b7c4a5-796a-45c9-a9fd-4ed6c5a10e9d",
   "metadata": {},
   "outputs": [],
   "source": [
    "treatment_idx"
   ]
  },
  {
   "cell_type": "code",
   "execution_count": null,
   "id": "b43d7c6b-fd67-4651-a09a-77dd66d9ffad",
   "metadata": {},
   "outputs": [],
   "source": [
    "method_to_tidx_to_eval = {m:{} for m in methods}\n",
    "for m in methods:\n",
    "    for i in range(5):\n",
    "        try:\n",
    "            with open(f\"test_{m}.{i}.pkl\", \"rb\") as f:\n",
    "                d = pkl.load(f)\n",
    "        except:\n",
    "            print(f\"test_{m}.{i}.pkl does not exist\")\n",
    "            continue\n",
    "        Y_pred = d['pred']['Y_pred']\n",
    "        Y_true = d['pred']['Y_true']\n",
    "        Z = d['pred']['test_Z']\n",
    "        method_to_tidx_to_eval[m][i] = get_evals(\n",
    "            Y_true,\n",
    "            Y_pred,\n",
    "            prediction_id=\"eval\",\n",
    "            full=False,\n",
    "            agg_method=\"mean\",\n",
    "            norm_Y = Y_v,\n",
    "        )"
   ]
  },
  {
   "cell_type": "code",
   "execution_count": null,
   "id": "26ed0e9a-527b-4b65-a87b-ec13c50393d2",
   "metadata": {},
   "outputs": [],
   "source": [
    "cidx = pd.concat(method_to_tidx_to_eval[m], axis=1).columns[[0,1,2,4]]"
   ]
  },
  {
   "cell_type": "code",
   "execution_count": null,
   "id": "5db4c1f9-82d3-4ea7-9b9f-caff6106183b",
   "metadata": {},
   "outputs": [],
   "source": [
    "evals = []\n",
    "for m in methods:\n",
    "    metrics = pd.concat(method_to_tidx_to_eval[m], axis=1)\n",
    "    #mean_metric = metrics.loc[:,metrics.columns.get_level_values(0).isin([0,1,2,4])].mean(axis=1)\n",
    "    mean_metric = metrics.mean(axis=1)\n",
    "    mean_metric.name = m\n",
    "    evals.append(mean_metric)"
   ]
  },
  {
   "cell_type": "code",
   "execution_count": null,
   "id": "3540aabe-feed-4818-aa74-dbdcaff858b3",
   "metadata": {},
   "outputs": [],
   "source": [
    "pred_eval_df = pd.concat(evals, axis=1).T\n",
    "pred_eval_df"
   ]
  },
  {
   "cell_type": "code",
   "execution_count": null,
   "id": "d20a795f-b112-441c-8650-71669b7909d3",
   "metadata": {},
   "outputs": [],
   "source": [
    "pred_eval_df.iloc[:,:3]"
   ]
  },
  {
   "cell_type": "code",
   "execution_count": null,
   "id": "63baf1c3-9361-4452-b607-fb3b1d322c96",
   "metadata": {},
   "outputs": [],
   "source": [
    "pred_ranks = pd.concat([pred_eval_df.iloc[:-3, :4].rank(ascending=False), pred_eval_df.iloc[:-3, [-1]].rank()], axis=1)\n",
    "pred_ranks.mean(axis=1)"
   ]
  },
  {
   "cell_type": "markdown",
   "id": "ee552c84-68a1-4193-8544-f6de13fe482a",
   "metadata": {},
   "source": [
    "### Matching"
   ]
  },
  {
   "cell_type": "code",
   "execution_count": null,
   "id": "50bc5086-07b8-4df8-a7ab-3dd252ac7078",
   "metadata": {},
   "outputs": [],
   "source": [
    "with open(\"test_LEOT_ott.0.pkl\", \"rb\") as f:\n",
    "    d = pkl.load(f)"
   ]
  },
  {
   "cell_type": "code",
   "execution_count": null,
   "id": "22650170-e669-4caa-aaec-be8bcf962649",
   "metadata": {},
   "outputs": [],
   "source": [
    "total_sum = 0\n",
    "for k, v in d[\"T\"]['match'].items():\n",
    "    total_sum += v.sum()"
   ]
  },
  {
   "cell_type": "code",
   "execution_count": null,
   "id": "c312cb03-5ab7-4a1b-8a34-fdc557595d4b",
   "metadata": {},
   "outputs": [],
   "source": [
    "rel_dfracs_method_to_tidx[m][i]"
   ]
  },
  {
   "cell_type": "code",
   "execution_count": null,
   "id": "d2a044ee-e2e1-468d-b2cf-a41046b81724",
   "metadata": {},
   "outputs": [],
   "source": [
    "foscttm_method_to_tidx = {m:{} for m in methods}\n",
    "dfracs_method_to_tidx = {m:{} for m in methods}\n",
    "rel_dfracs_method_to_tidx = {m:{} for m in methods}\n",
    "for m in methods:\n",
    "    for i in range(5):\n",
    "        with open(f\"test_{m}.{i}.e.pkl\", \"rb\") as f:\n",
    "            d = pkl.load(f)\n",
    "        f = d['matching_evals'][0]['foscttm']\n",
    "        foscttm_method_to_tidx[m][i] = f.mean()\n",
    "        dfracs_method_to_tidx[m][i] = d['matching_evals'][0]['dfracs']\n",
    "        rel_dfracs_method_to_tidx[m][i] = d['matching_evals'][0]['rel_dfracs']\n",
    "        if isinstance(dfracs_method_to_tidx[m][i], pd.Series):\n",
    "            dfracs_method_to_tidx[m][i] = dfracs_method_to_tidx[m][i].mean().item()\n",
    "        elif isinstance(dfracs_method_to_tidx[m][i], dict):\n",
    "            dfracs_method_to_tidx[m][i] = pd.Series(dfracs_method_to_tidx[m][i]).max()\n",
    "    foscttm_method_to_tidx[m] = pd.Series(foscttm_method_to_tidx[m]).mean().item()\n",
    "    dfracs_method_to_tidx[m] = pd.Series(dfracs_method_to_tidx[m]).mean().item()"
   ]
  },
  {
   "cell_type": "code",
   "execution_count": null,
   "id": "a2271393-e348-44d8-96a3-fcf1d90a016a",
   "metadata": {},
   "outputs": [],
   "source": [
    "match_edf = pd.concat([pd.Series(foscttm_method_to_tidx), pd.Series(dfracs_method_to_tidx)], axis=1)\n",
    "match_edf.columns=[\"FOSCTTM\", \"Dfracs\"]\n",
    "match_edf"
   ]
  },
  {
   "cell_type": "code",
   "execution_count": null,
   "id": "3ec294f4-1155-4a38-8729-74632c8278d3",
   "metadata": {},
   "outputs": [],
   "source": [
    "ranks = pd.concat([match_edf.iloc[:-3][\"FOSCTTM\"].rank(), match_edf.iloc[:-3][\"Dfracs\"].rank(ascending=False)], axis=1)\n",
    "ranks.mean(axis=1)"
   ]
  },
  {
   "cell_type": "markdown",
   "id": "c0477be1-25de-4475-9abf-16dc78d8907a",
   "metadata": {},
   "source": [
    "### Draw UMAP"
   ]
  },
  {
   "cell_type": "code",
   "execution_count": null,
   "id": "a3f98e5f-5a44-466f-8081-68c901ccfa07",
   "metadata": {},
   "outputs": [],
   "source": [
    "def draw_umap(d):\n",
    "    Y_preds = []\n",
    "    Y_trues = []\n",
    "    Zs = []\n",
    "    labs = []\n",
    "    ridx=0\n",
    "    for k in all_keys:\n",
    "        treat_idx_to_train_idx[k] = train_keys\n",
    "    for k in d['pred'][\"test_Z\"].keys():\n",
    "        rsize = d['pred'][\"test_Z\"][k].shape[0]\n",
    "        Y_pred = d['pred']['Y_pred'][ridx:(ridx+rsize),:]\n",
    "        Y_true = d['pred']['Y_true'][ridx:(ridx+rsize),:]\n",
    "        ridx += rsize\n",
    "        Y_preds.append(Y_pred)\n",
    "        Y_trues.append(Y_true)\n",
    "        Zs.append(d['pred']['test_Z'][k])\n",
    "        labs.extend([k]*rsize)\n",
    "    adata_pred = ad.AnnData(X=np.concatenate(Y_preds), obs=pd.DataFrame({\"dosage\":np.concatenate(Zs), \"labs\":labs, \"class\":\"pred\"}))\n",
    "    adata_true = ad.AnnData(X=np.concatenate(Y_trues), obs=pd.DataFrame({\"dosage\":np.concatenate(Zs), \"labs\":labs, \"class\":\"true\"}))\n",
    "    adata = ad.concat([adata_pred, adata_true])\n",
    "    sc.pp.pca(adata)\n",
    "    sc.pp.neighbors(adata)\n",
    "    sc.tl.umap(adata)\n",
    "    adata.obs.dosage = adata.obs.dosage.astype('category')\n",
    "    return adata"
   ]
  },
  {
   "cell_type": "code",
   "execution_count": null,
   "id": "a4c5c8eb-82a2-475d-9f2a-bdb2d7533502",
   "metadata": {},
   "outputs": [],
   "source": [
    "all_keys = list(range(13))\n",
    "treat_idx_to_train_idx = {}\n",
    "\n",
    "for test_idx in range(5):\n",
    "    with open(f\"test_{method}.{test_idx}.pkl\", \"rb\") as f:\n",
    "        d = pkl.load(f)\n",
    "    test_keys = list(d['pred'][\"test_Z\"].keys())\n",
    "    train_keys = [k for k in all_keys if k not in test_keys]\n",
    "    for k in test_keys:\n",
    "        treat_idx_to_train_idx[k] = train_keys"
   ]
  },
  {
   "cell_type": "code",
   "execution_count": null,
   "id": "43029351-26b8-4b86-92f6-f42a65989176",
   "metadata": {
    "scrolled": true
   },
   "outputs": [],
   "source": [
    "pred_datas = {}\n",
    "for method in methods:\n",
    "    adatas = []\n",
    "    for test_idx in range(5):\n",
    "        with open(f\"test_{method}.{test_idx}.pkl\", \"rb\") as f:\n",
    "            d = pkl.load(f)\n",
    "        adata = draw_umap(d)\n",
    "        adata.obs['test_idx'] = test_idx\n",
    "        adatas.append(adata)\n",
    "    pred_datas[method] = adatas"
   ]
  },
  {
   "cell_type": "code",
   "execution_count": null,
   "id": "d8dbaf2d-d751-40d4-88d4-4fd2f844d79d",
   "metadata": {},
   "outputs": [],
   "source": [
    "adata_dict = {}\n",
    "for k, adatas in pred_datas.items():\n",
    "    adata = ad.concat(adatas)\n",
    "    adata.obs[\"treatment\"] = adata.obs.labs.map(treatment_idx)\n",
    "    adata.obs[\"dosage_\"] = adata.obs.dosage.map(conc_idx)\n",
    "    adata.obs.labs = adata.obs.labs.astype(\"category\")\n",
    "    adata_dict[k] = adata"
   ]
  },
  {
   "cell_type": "code",
   "execution_count": null,
   "id": "8ea87a8b-6dac-414c-be91-8bae2ee11526",
   "metadata": {
    "scrolled": true
   },
   "outputs": [],
   "source": [
    "\n",
    "fig, ax = plt.subplots(11, 6, figsize=(12, 26), sharex=True, sharey=True)\n",
    "adatas = []\n",
    "\n",
    "for method in [\"perfect\", \"random\", \"EGWL_ott\", \"ECOOTL\"]:\n",
    "    adata = adata_dict[method]\n",
    "    adata.var = kinase_used.var\n",
    "    adata.obs[\"treatment\"] = adata.obs.labs.map(treatment_idx)\n",
    "    adata.obs[\"dosage_\"] = adata.obs.dosage.map(conc_idx)\n",
    "    if len(adatas) == 0:\n",
    "        true_adata = adata[adata.obs[\"class\"] == \"true\",:].copy()\n",
    "        true_adata.obs['method'] = \"true\"\n",
    "        adatas.append(true_adata)\n",
    "    pred_adata = adata[adata.obs[\"class\"] == \"pred\",:].copy()\n",
    "    pred_adata.obs['method'] = method\n",
    "    adatas.append(pred_adata)\n",
    "all_adata = ad.concat(adatas)\n",
    "sc.pp.pca(all_adata)\n",
    "sc.pp.neighbors(all_adata)\n",
    "sc.tl.umap(all_adata)\n",
    "class_pal = {\"pred\":pal[1], \"true\":pal[0]}\n",
    "dosage_pal = {\"100nM\":pal[0], \"1uM\":pal[-2], \"10uM\":pal[3]}\n",
    "          \n",
    "tdata = all_adata[all_adata.obs[\"class\"] == \"true\",:]\n",
    "pdata = all_adata[all_adata.obs[\"class\"] == \"pred\",:]\n",
    "adf = pd.DataFrame({\"UMAP1\":tdata.obsm[\"X_umap\"][:,0], \"UMAP2\":tdata.obsm[\"X_umap\"][:,1], \n",
    "                        \"class\":tdata.obs[\"class\"], \"dosage\":tdata.obs[\"dosage_\"], \"labs\":tdata.obs[\"labs\"]}\n",
    "                  )\n",
    "i=0  \n",
    "for treatment in [t for t in treatment_idx.tolist() if t != \"No stim\" and t != \"Vehicle\"]:\n",
    "    ttdata = tdata[tdata.obs.treatment == treatment,:]\n",
    "    tdf = pd.DataFrame({\"UMAP1\":ttdata.obsm[\"X_umap\"][:,0], \n",
    "                        \"UMAP2\":ttdata.obsm[\"X_umap\"][:,1], \n",
    "                        \"class\":ttdata.obs[\"class\"], \n",
    "                        \"dosage\":ttdata.obs[\"dosage_\"]})\n",
    "    ptdata = pdata[pdata.obs.treatment == treatment,:]\n",
    "    pdf = pd.DataFrame({\"UMAP1\":ptdata.obsm[\"X_umap\"][:,0], \n",
    "                        \"UMAP2\":ptdata.obsm[\"X_umap\"][:,1], \n",
    "                        \"class\":ptdata.obs[\"class\"], \n",
    "                        \"dosage\":ptdata.obs[\"dosage_\"],\n",
    "                       \"method\":ptdata.obs['method']})\n",
    "    # All embedding\n",
    "    sns.scatterplot(adf.loc[adf.labs.isin(treat_idx_to_train_idx[l]),:], \n",
    "                    x=\"UMAP1\", y=\"UMAP2\", color=\"lightgrey\", ax = ax[i//6, i%6], s=5, label=\"train\", edgecolor=None, rasterized=True)\n",
    "    sns.scatterplot(tdf, x=\"UMAP1\", y=\"UMAP2\", color=pal[0], \n",
    "                    ax = ax[i//6, i%6], s=5, edgecolor=None, rasterized=True, label=\"true\")\n",
    "    sns.scatterplot(pdf, x=\"UMAP1\", y=\"UMAP2\", hue=\"method\", \n",
    "                    ax = ax[i//6, i%6], s=5, edgecolor=None, rasterized=True)\n",
    "    ax[i//6, i%6].set_title(treatment)\n",
    "    try:\n",
    "        ax[i//6, i%6].get_legend().remove()\n",
    "    except:\n",
    "        pass\n",
    "    i+=1\n",
    "\n",
    "    # dosage\n",
    "    sns.scatterplot(tdf, x=\"UMAP1\", y=\"UMAP2\", hue=\"dosage\", palette=dosage_pal, s=5, hue_order=[\"100nM\", \"1uM\", \"10uM\"],\n",
    "                    ax = ax[i//6, i%6], edgecolor=None, rasterized=True)\n",
    "    ax[i//6, i%6].get_legend().remove()\n",
    "    ax[i//6, i%6].set_title(f\"True\")\n",
    "    i += 1\n",
    "    for method in [\"perfect\", \"random\", \"EGWL_ott\", \"ECOOTL\"]:\n",
    "        sns.scatterplot(pdf.loc[pdf[\"method\"] == method], x=\"UMAP1\", y=\"UMAP2\", palette=dosage_pal, s=5, hue_order=[\"100nM\", \"1uM\", \"10uM\"], \n",
    "                        ax = ax[i//6, i%6], edgecolor=None, rasterized=True, hue=\"dosage\")\n",
    "        ax[i//6, i%6].get_legend().remove()\n",
    "        ax[i//6, i%6].set_title(f\"{method}\")\n",
    "        i += 1\n",
    "\n",
    "handles, labels = ax[0,0].get_legend_handles_labels()\n",
    "fig.legend(handles, labels, bbox_to_anchor=(1,0.5), loc=\"lower left\")\n",
    "handles2, labels2 = ax[0,2].get_legend_handles_labels()\n",
    "fig.legend(handles2, labels2, bbox_to_anchor=(1,0.5), loc=\"upper left\")\n",
    "plt.setp(ax, box_aspect=1)\n",
    "plt.tight_layout()\n",
    "\n",
    "fig.savefig(\"all_umaps.pdf\")"
   ]
  },
  {
   "cell_type": "markdown",
   "id": "f560f1ae-53f6-4c43-a89b-00ab179dfd3d",
   "metadata": {},
   "source": [
    "### Visualize DE genes?"
   ]
  },
  {
   "cell_type": "code",
   "execution_count": null,
   "id": "51ddd74c-99a5-4ea0-b970-b6d364db6f4f",
   "metadata": {},
   "outputs": [],
   "source": [
    "activation_genes = ['TNFRSF18',\n",
    " 'TNFRSF4',\n",
    " 'IL12RB2',\n",
    " 'LMNA',\n",
    " 'RRM2',\n",
    " 'DUSP2',\n",
    " 'GBE1',\n",
    " 'ZBED2',\n",
    " 'IER3',\n",
    " 'LTA',\n",
    " 'CD109',\n",
    " 'TNFAIP3',\n",
    " 'SYTL3',\n",
    " 'GARS',\n",
    " 'SNHG15',\n",
    " 'NAMPT',\n",
    " 'HILPDA',\n",
    " 'DUSP4',\n",
    " 'RNF19A',\n",
    " 'NINJ1',\n",
    " 'IL2RA',\n",
    " 'DDIT4',\n",
    " 'PGAM1',\n",
    " 'MICAL2',\n",
    " 'SLC43A3',\n",
    " 'SLC3A2',\n",
    " 'LAG3',\n",
    " 'LINC02341',\n",
    " 'GNA15',\n",
    " 'ZBTB32',\n",
    " 'MIR155HG',\n",
    " 'PIM3',\n",
    " 'GK']\n",
    "genes = [g for g in activation_genes if g in adata.var_names.tolist()]"
   ]
  },
  {
   "cell_type": "code",
   "execution_count": null,
   "id": "b7341df4-63fe-4ce9-8172-4ad523f61f05",
   "metadata": {},
   "outputs": [],
   "source": [
    "pdata.obs"
   ]
  },
  {
   "cell_type": "code",
   "execution_count": null,
   "id": "fdacc74a-40a1-4e46-9086-d27808775668",
   "metadata": {},
   "outputs": [],
   "source": [
    "def draw_genescores(trt, ax):\n",
    "    dfs = []\n",
    "    \n",
    "    adata = adata_dict[\"perfect\"]\n",
    "    adata.var = kinase_used.var\n",
    "    pdata = adata[adata.obs.treatment == trt,:]\n",
    "    sc.tl.score_genes(adata, genes) \n",
    "    \n",
    "    tdf = adata[(adata.obs.treatment == trt) & (adata.obs['class'] == 'true'),:].obs.copy()\n",
    "    tdf[\"group\"] = \"true\"\n",
    "    dfs.append(tdf)\n",
    "    \n",
    "    pdf = adata[(adata.obs.treatment == trt) & (adata.obs['class'] == 'pred'),:].obs.copy()\n",
    "    pdf[\"group\"] = \"perfect\"\n",
    "    dfs.append(pdf)\n",
    "    \n",
    "    adata = adata_dict[\"random\"]\n",
    "    adata.var = kinase_used.var\n",
    "    sc.tl.score_genes(adata, genes) \n",
    "    pdata = adata[adata.obs.treatment == trt,:]\n",
    "    sc.tl.score_genes(pdata, genes) \n",
    "    pdf = adata[(adata.obs.treatment == trt) & (adata.obs['class'] == 'pred'),:].obs.copy()\n",
    "    pdf[\"group\"] = \"random\"\n",
    "    dfs.append(pdf)\n",
    "    \n",
    "    adata = adata_dict[\"EGWL_ott\"]\n",
    "    adata.var = kinase_used.var\n",
    "    sc.tl.score_genes(adata, genes) \n",
    "    pdata = adata[adata.obs.treatment == trt,:]\n",
    "    sc.tl.score_genes(pdata, genes) \n",
    "    pdf = adata[(adata.obs.treatment == trt) & (adata.obs['class'] == 'pred'),:].obs.copy()\n",
    "    pdf[\"group\"] = \"EGWL_ott\"\n",
    "    dfs.append(pdf)\n",
    "    adata = adata_dict[\"ECOOTL\"]\n",
    "    adata.var = kinase_used.var\n",
    "    sc.tl.score_genes(adata, genes) \n",
    "    pdata = adata[adata.obs.treatment == trt,:]\n",
    "    sc.tl.score_genes(pdata, genes) \n",
    "    pdf = adata[(adata.obs.treatment == trt) & (adata.obs['class'] == 'pred'),:].obs.copy()\n",
    "    pdf[\"group\"] = \"ECOOTL\"\n",
    "    dfs.append(pdf)\n",
    "    df = pd.concat(dfs)\n",
    "    sns.violinplot(data=df, x=\"dosage_\", order=[\"100nM\", \"1uM\", \"10uM\"], y=\"score\", hue=\"group\", \n",
    "                   hue_order=[\"true\", \"perfect\", \"random\", \"ECOOTL\", \"EGWL_ott\"], ax=ax, linewidth=0.5)\n",
    "    ax.get_legend().remove()\n",
    "    ax.set_title(trt)\n",
    "    #handles, labels = ax.get_legend_handles_labels()\n",
    "    return ax"
   ]
  },
  {
   "cell_type": "code",
   "execution_count": null,
   "id": "8c22190e-cea6-4d0e-9afd-446a0cae1096",
   "metadata": {},
   "outputs": [],
   "source": [
    "fig, ax = plt.subplots(4,4, figsize=(16,16))\n",
    "for i, trt in enumerate(adata.obs.treatment.unique()):\n",
    "    draw_genescores(trt, ax[i//4, i%4])\n",
    "handles, labels = ax[0,0].get_legend_handles_labels()\n",
    "fig.legend(handles, labels, loc=\"center left\", bbox_to_anchor=(1.0, 0.5))\n",
    "plt.tight_layout()\n",
    "fig.savefig(\"activation_gene_scores.pdf\")"
   ]
  },
  {
   "cell_type": "markdown",
   "id": "a7eed9a9-13ce-4573-8c3a-ffd94e30c120",
   "metadata": {},
   "source": [
    "### Running time"
   ]
  },
  {
   "cell_type": "code",
   "execution_count": null,
   "id": "328ebdaa-ba4a-4978-9ada-6dd556c038a8",
   "metadata": {},
   "outputs": [],
   "source": [
    "val_time_dict = {m:{} for m in methods}\n",
    "epsilons = [0.01, 1e-3, 1e-4, 1e-5]\n",
    "for m in methods[:-3]:\n",
    "    epsilons = [0.01, 1e-3, 1e-4, 1e-5]\n",
    "    if \"VAE\" in m:\n",
    "        with open(f\"val_CV_{m}.{i}.pkl\", \"rb\") as f:\n",
    "            d = pkl.load(f)\n",
    "        epsilons = list(d['log'].keys())\n",
    "    eps_times = {eps:[] for eps in epsilons}\n",
    "    for i in range(5):\n",
    "        try:\n",
    "            with open(f\"val_CV_{m}.{i}.pkl\", \"rb\") as f:\n",
    "                d = pkl.load(f)\n",
    "        except:\n",
    "            print(f\"test_{m}.{i}.pkl does not exist\")\n",
    "            continue\n",
    "        for eps in epsilons:\n",
    "            val_times = []\n",
    "            for k, v in d['log'][eps].items():\n",
    "                if 'time' in v:\n",
    "                    eps_times[eps].append(v['time'])\n",
    "                else:\n",
    "                    times = []\n",
    "                    for x_key, evals in v.items():\n",
    "                        times.append(evals['time'])\n",
    "                    eps_times[eps].append(sum(times))\n",
    "    for eps in epsilons:\n",
    "        val_time_dict[m][eps] = sum(eps_times[eps]) / len(eps_times[eps])"
   ]
  },
  {
   "cell_type": "code",
   "execution_count": null,
   "id": "1d5e8d47-d1b0-4086-a2a4-26c582c465a4",
   "metadata": {},
   "outputs": [],
   "source": [
    "perf_df = pd.DataFrame(val_time_dict)\n",
    "perf_df = perf_df.iloc[:4,:7]"
   ]
  },
  {
   "cell_type": "code",
   "execution_count": null,
   "id": "70b48a8a-600d-48b0-b848-665b8d31a026",
   "metadata": {},
   "outputs": [],
   "source": [
    "epsilons"
   ]
  },
  {
   "cell_type": "code",
   "execution_count": null,
   "id": "58c6c101-e1b6-4956-98f4-c794bdc1ebce",
   "metadata": {},
   "outputs": [],
   "source": [
    "perf_df[\"ECOOTL\"] / perf_df[\"EGWL_ott\"]"
   ]
  },
  {
   "cell_type": "code",
   "execution_count": null,
   "id": "bd6d3c4d-d2d1-4a21-a497-c4347a703008",
   "metadata": {},
   "outputs": [],
   "source": [
    "fig, ax = plt.subplots()\n",
    "perf_df.plot(logy=True, xlabel='eps', ylabel='time (s)', ax = ax)\n",
    "ax.get_legend().remove()\n",
    "handles, labels = ax.get_legend_handles_labels()\n",
    "ax.set_xticks([0, 1, 2, 3], [0.01, 1e-3, 1e-4, 1e-5])\n",
    "fig.legend(handles, labels, loc=\"center left\", bbox_to_anchor=(0.9, 0.5))\n",
    "fig.savefig(\"time_complexity.pdf\", bbox_inches=\"tight\")"
   ]
  },
  {
   "cell_type": "markdown",
   "id": "1bcb9e12-92b1-42c9-9c56-bac4adefb074",
   "metadata": {},
   "source": [
    "#### Matrix"
   ]
  },
  {
   "cell_type": "code",
   "execution_count": null,
   "id": "9f640494-45c9-4f71-b3cd-99a15dfdfa40",
   "metadata": {},
   "outputs": [],
   "source": [
    "dosage_pal2 = {\"100nM\":\"yellow\", \"1uM\":\"orange\", \"10uM\":\"red\"}"
   ]
  },
  {
   "cell_type": "code",
   "execution_count": null,
   "id": "2c499410-7aaa-4524-b8f4-2f9dc4a134fb",
   "metadata": {},
   "outputs": [],
   "source": [
    "from matplotlib.gridspec import GridSpec\n",
    "os.system(f\"mkdir -p match_matrix\")\n",
    "for trt_key in treatment_idx.index.tolist():\n",
    "    for i, m in enumerate([\"EGWL_ott\", \"ECOOTL\"]):\n",
    "        mats = []\n",
    "        for j in range(5):\n",
    "            with open(f\"test_{m}.{j}.pkl\", \"rb\") as f:\n",
    "                d = pkl.load(f)\n",
    "            try:\n",
    "                mats.append(d[\"T\"][\"pred\"][trt_key])\n",
    "            except KeyError:\n",
    "                continue\n",
    "        mat = sum(mats)/len(mats)\n",
    "                            \n",
    "        z = data[\"Zs_dict\"][\"dosage\"][trt_key]\n",
    "        cols = pd.Series(z).map(conc_idx).map(dosage_pal2)\n",
    "\n",
    "        g=sns.clustermap(mat, col_cluster=False, \n",
    "                         row_cluster=True, linewidths=0, cmap='coolwarm', \n",
    "                         row_colors=cols.values, col_colors=cols.values, figsize=(0.1,0.1))\n",
    "        reordered_ind = g.dendrogram_row.reordered_ind\n",
    "        g=sns.clustermap(mat[reordered_ind,:][:, reordered_ind], col_cluster=False, \n",
    "                         row_cluster=False, linewidths=0, cmap='coolwarm', \n",
    "                         row_colors=cols.values[reordered_ind], col_colors=cols.values[reordered_ind], \n",
    "                         vmax=np.quantile(mat, 0.8), figsize=(4,4), rasterized=True)\n",
    "        g.ax_row_dendrogram.set_visible(False)\n",
    "        g.ax_col_dendrogram.set_visible(False)\n",
    "        g.ax_cbar.set_position([1, 0.5, 0.02, 0.1])\n",
    "        ax = g.ax_heatmap\n",
    "        ax.set_xticks([])\n",
    "        ax.set_yticks([])\n",
    "        #ax.set_title(m)\n",
    "        g.fig.savefig(f\"match_matrix/{treatment_idx[trt_key]}.{m}.svg\", bbox_inches=\"tight\")\n"
   ]
  }
 ],
 "metadata": {
  "kernelspec": {
   "display_name": "Python [conda env:ot]",
   "language": "python",
   "name": "conda-env-ot-py"
  },
  "language_info": {
   "codemirror_mode": {
    "name": "ipython",
    "version": 3
   },
   "file_extension": ".py",
   "mimetype": "text/x-python",
   "name": "python",
   "nbconvert_exporter": "python",
   "pygments_lexer": "ipython3",
   "version": "3.11.7"
  }
 },
 "nbformat": 4,
 "nbformat_minor": 5
}
