{
 "cells": [
  {
   "cell_type": "code",
   "execution_count": null,
   "id": "1ba0d618-eaa1-48e2-902c-2d2d569fabfa",
   "metadata": {},
   "outputs": [],
   "source": [
    "import pickle as pkl\n",
    "import numpy as np\n",
    "import pandas as pd\n",
    "import anndata as ad"
   ]
  },
  {
   "cell_type": "code",
   "execution_count": null,
   "id": "888cd265-f9dd-45ce-9efa-2675cacb9726",
   "metadata": {},
   "outputs": [],
   "source": [
    "with open(\"all_ECOOTL.0.01.pkl\", \"rb\") as f:\n",
    "    d = pkl.load(f)"
   ]
  },
  {
   "cell_type": "code",
   "execution_count": null,
   "id": "7d6f35b4-8358-4725-a647-f76e66d8d2c1",
   "metadata": {},
   "outputs": [],
   "source": [
    "kinase_used = ad.read_h5ad(\"../../../../../data/chemical_screen/kinase_used.h5ad\")"
   ]
  },
  {
   "cell_type": "code",
   "execution_count": null,
   "id": "d9620be7-3407-4cb2-8914-03b0464014ae",
   "metadata": {},
   "outputs": [],
   "source": [
    "proteins = kinase_used.obsm['adt_select_norm'].columns.tolist() + kinase_used.obsm['tsb_select_norm'].columns.tolist()"
   ]
  },
  {
   "cell_type": "code",
   "execution_count": null,
   "id": "451267ff-16f9-4fe9-bf43-b743c784f032",
   "metadata": {},
   "outputs": [],
   "source": [
    "genes = kinase_used.var.index.tolist()"
   ]
  },
  {
   "cell_type": "code",
   "execution_count": null,
   "id": "18c8fce7-bfc8-48dc-a58d-b3ce387e2417",
   "metadata": {},
   "outputs": [],
   "source": [
    "proteins = [p.split(\"_\")[-1] for p in proteins]"
   ]
  },
  {
   "cell_type": "code",
   "execution_count": null,
   "id": "9d9337e2-0fb3-43d7-aa0c-934a405d538c",
   "metadata": {},
   "outputs": [],
   "source": [
    "genes_ser = pd.Series(genes)"
   ]
  },
  {
   "cell_type": "code",
   "execution_count": null,
   "id": "50a9225c-4eee-471c-8b32-a3adf8625510",
   "metadata": {
    "scrolled": true
   },
   "outputs": [],
   "source": [
    "in_genes = []\n",
    "gene_idx = []\n",
    "for p in proteins:\n",
    "    in_genes.append(p.upper() in genes)\n",
    "    if p.upper() not in genes:\n",
    "        print(p.upper())\n",
    "    else:\n",
    "        gene_idx.append(genes.index(p.upper()))"
   ]
  },
  {
   "cell_type": "code",
   "execution_count": null,
   "id": "d16124c6-c21e-40ea-b362-868bdbfe386e",
   "metadata": {},
   "outputs": [],
   "source": [
    "in_genes = pd.Series(in_genes)\n",
    "in_genes.value_counts()"
   ]
  },
  {
   "cell_type": "code",
   "execution_count": null,
   "id": "6325bb50-8a38-451f-b620-a1f578d74bc2",
   "metadata": {},
   "outputs": [],
   "source": [
    "shared_prot_idx = np.where(in_genes)[0]\n",
    "shared_gene_idx = pd.Series(gene_idx)"
   ]
  },
  {
   "cell_type": "code",
   "execution_count": null,
   "id": "b2176f4b-703f-446f-a6f5-e111ee20d935",
   "metadata": {},
   "outputs": [],
   "source": [
    "methods = [\n",
    "    \"EOT_ott\",\n",
    "    \"LEOT_ott\",\n",
    "    \"EGW_ott\",\n",
    "    \"EGW_all_ott\",\n",
    "    \"EGWL_ott\",\n",
    "    \"ECOOT\",\n",
    "    \"ECOOTL\",\n",
    "    \"perfect\",\n",
    "    \"by_conc\",\n",
    "    \"random\",\n",
    "]\n",
    "enrichments = []\n",
    "epsilons = [0.01, 1e-3, 1e-4, 1e-05]\n",
    "ms = []\n",
    "epss = []\n",
    "min_foscttm = []\n",
    "for method in methods:\n",
    "    for eps in epsilons:\n",
    "        \n",
    "        with open(f\"features_{method}.{eps}.pkl\", \"rb\") as f:\n",
    "            d = pkl.load(f)\n",
    "        ms.append(method)\n",
    "        epss.append(eps)\n",
    "        enrichments.append(d[\"Tv\"][shared_prot_idx,shared_gene_idx].sum() * (d[\"Tv\"].size/len(shared_gene_idx)))\n",
    "edf = pd.DataFrame({\"method\":ms, \"eps\":epss, \"enrichment\":enrichments})"
   ]
  },
  {
   "cell_type": "code",
   "execution_count": null,
   "id": "ecbf0137-c677-4a2e-8548-8d5e64466441",
   "metadata": {},
   "outputs": [],
   "source": [
    "edf.groupby('method')['enrichment'].max()"
   ]
  }
 ],
 "metadata": {
  "kernelspec": {
   "display_name": "Python [conda env:ot]",
   "language": "python",
   "name": "conda-env-ot-py"
  },
  "language_info": {
   "codemirror_mode": {
    "name": "ipython",
    "version": 3
   },
   "file_extension": ".py",
   "mimetype": "text/x-python",
   "name": "python",
   "nbconvert_exporter": "python",
   "pygments_lexer": "ipython3",
   "version": "3.11.7"
  }
 },
 "nbformat": 4,
 "nbformat_minor": 5
}
